{
 "cells": [
  {
   "cell_type": "markdown",
   "metadata": {
    "collapsed": false
   },
   "source": [
    " # TP1 Calcul scientifique - 8 mars 2017 - Factorisation LU\n",
    " \n",
    "## Clefs Matlab\n",
    "\n",
    "Matlab = MATrix LABoratory.  \n",
    "Logiciel payant de l'éditeur de logiciel Mathworks.   \n",
    "Une bonne alternative open-source à Matlab est scilab.  \n",
    "Pour connaitre sa version de matlab ainsi que les toolbox installées, entrer \"ver\" dans la console."
   ]
  },
  {
   "cell_type": "code",
   "execution_count": null,
   "metadata": {
    "collapsed": false
   },
   "outputs": [],
   "source": [
    "ver"
   ]
  },
  {
   "cell_type": "markdown",
   "metadata": {},
   "source": [
    "### L'interface"
   ]
  },
  {
   "cell_type": "code",
   "execution_count": null,
   "metadata": {
    "collapsed": false
   },
   "outputs": [],
   "source": [
    "1+1"
   ]
  },
  {
   "cell_type": "markdown",
   "metadata": {},
   "source": [
    "\"ans\" signifie \"answer\". Pour rendre matlab muet, il faut mettre \";\" après chaque instruction. Illustration:"
   ]
  },
  {
   "cell_type": "code",
   "execution_count": null,
   "metadata": {
    "collapsed": true
   },
   "outputs": [],
   "source": [
    "1+1;"
   ]
  },
  {
   "cell_type": "markdown",
   "metadata": {},
   "source": [
    "tester les commandes \"clear\" (efface console et mémoire), \"help\" et \"whos\""
   ]
  },
  {
   "cell_type": "code",
   "execution_count": null,
   "metadata": {
    "collapsed": false
   },
   "outputs": [],
   "source": [
    "help clear"
   ]
  },
  {
   "cell_type": "code",
   "execution_count": null,
   "metadata": {
    "collapsed": false
   },
   "outputs": [],
   "source": [
    "pi"
   ]
  },
  {
   "cell_type": "code",
   "execution_count": null,
   "metadata": {
    "collapsed": false
   },
   "outputs": [],
   "source": [
    "a=pi;"
   ]
  },
  {
   "cell_type": "code",
   "execution_count": null,
   "metadata": {
    "collapsed": false
   },
   "outputs": [],
   "source": [
    "whos a"
   ]
  },
  {
   "cell_type": "markdown",
   "metadata": {},
   "source": [
    "### L'espace de travail\n",
    "\n",
    "Il est important de connaitre son répertoire courant \"userpath\" avec la commande \"pwd\", de pouvoir le modifier avec \"cd\", créer des repertoires(\"mkdir\").  \n",
    "Et éventuellement, d'enrichir le Matlabpath, interrogeable avec la commande \"path\"."
   ]
  },
  {
   "cell_type": "code",
   "execution_count": null,
   "metadata": {
    "collapsed": false
   },
   "outputs": [],
   "source": [
    "userpath"
   ]
  },
  {
   "cell_type": "code",
   "execution_count": null,
   "metadata": {
    "collapsed": false,
    "scrolled": false
   },
   "outputs": [],
   "source": [
    "pwd"
   ]
  },
  {
   "cell_type": "code",
   "execution_count": null,
   "metadata": {
    "collapsed": false,
    "scrolled": false
   },
   "outputs": [],
   "source": [
    "path"
   ]
  },
  {
   "cell_type": "code",
   "execution_count": null,
   "metadata": {
    "collapsed": false
   },
   "outputs": [],
   "source": [
    "addpath(userpath)"
   ]
  },
  {
   "cell_type": "markdown",
   "metadata": {},
   "source": [
    "créer un fichier.m   \n",
    "% commentaires d'en-tête de fichier   \n",
    "% Date  \n",
    "% Auteur  \n",
    "% Description"
   ]
  },
  {
   "cell_type": "markdown",
   "metadata": {},
   "source": [
    "### Ecriture matricielle\n",
    "Une matrice s'initialise ligne par ligne, séparées par ;"
   ]
  },
  {
   "cell_type": "code",
   "execution_count": null,
   "metadata": {
    "collapsed": false
   },
   "outputs": [],
   "source": [
    "A=[1 2 3;1 3 5;2 8 10]"
   ]
  },
  {
   "cell_type": "markdown",
   "metadata": {},
   "source": [
    "définir y, un vecteur colonne ou son transposé y', un vecteur ligne:"
   ]
  },
  {
   "cell_type": "code",
   "execution_count": null,
   "metadata": {
    "collapsed": false,
    "scrolled": true
   },
   "outputs": [],
   "source": [
    "y=[1;12;0]"
   ]
  },
  {
   "cell_type": "code",
   "execution_count": null,
   "metadata": {
    "collapsed": false
   },
   "outputs": [],
   "source": [
    "y'"
   ]
  },
  {
   "cell_type": "markdown",
   "metadata": {},
   "source": [
    "Quelques fonctions intéressantes pour travailler sur les matrices:   \n",
    "eye(n) = matrice identité en dimension 'n'   \n",
    "tril(A) = triangulaire LOW inférieure de A, diagonale principale comprise. Devinez ce qu'est triu(A) ?   \n",
    "tril(A,-1) = triangulaire LOW inférieure de A, à partir de la première sous-diagonale   \n",
    "On peut aussi adresser des parties ou des blocs à l'intérieur d'un matrice: A(1:3,2) adresse les lignes 1 à 3 de la 2ème colonne"
   ]
  },
  {
   "cell_type": "code",
   "execution_count": null,
   "metadata": {
    "collapsed": false
   },
   "outputs": [],
   "source": [
    "eye(3)"
   ]
  },
  {
   "cell_type": "code",
   "execution_count": null,
   "metadata": {
    "collapsed": false
   },
   "outputs": [],
   "source": [
    "tril(A)"
   ]
  },
  {
   "cell_type": "code",
   "execution_count": null,
   "metadata": {
    "collapsed": false
   },
   "outputs": [],
   "source": [
    "tril(A,-1)"
   ]
  },
  {
   "cell_type": "code",
   "execution_count": null,
   "metadata": {
    "collapsed": false
   },
   "outputs": [],
   "source": [
    "triu(A,1)"
   ]
  },
  {
   "cell_type": "code",
   "execution_count": null,
   "metadata": {
    "collapsed": false
   },
   "outputs": [],
   "source": [
    "A(1:3,2)"
   ]
  },
  {
   "cell_type": "markdown",
   "metadata": {},
   "source": [
    "## Programmation\n",
    "### Boucle 'for':   \n",
    "la variable de boucle atteint ses bornes i=1:n  \n",
    "indentation: 4 espaces  \n",
    "fin de boucle 'end'"
   ]
  },
  {
   "cell_type": "code",
   "execution_count": null,
   "metadata": {
    "collapsed": false
   },
   "outputs": [],
   "source": [
    "A=zeros(3)\n",
    "for i=1:3\n",
    "   A(i,1)=i\n",
    "end   "
   ]
  },
  {
   "cell_type": "markdown",
   "metadata": {},
   "source": [
    "### Fonction:\n",
    "Attention à la casse !   \n",
    "Extensions des fichiers matlab.m   \n",
    "Le nom du fichier doit exactement correspondre au nom de la fonction: maFonction.m   \n",
    "Syntaxe: function [output1,output2]=maFonction(input1,input2)   \n",
    "indentation 4 espaces   \n",
    "fin de fonction 'end'"
   ]
  },
  {
   "cell_type": "code",
   "execution_count": null,
   "metadata": {
    "collapsed": true
   },
   "outputs": [],
   "source": [
    "function [resultat] = multiplication(a,b)\n",
    "    resultat = a*b;\n",
    "end"
   ]
  },
  {
   "cell_type": "markdown",
   "metadata": {},
   "source": [
    "#### fonction interne\n",
    "il suffit de l'écrire dans le fichier à la suite de la fonction principale qui l'appelle"
   ]
  },
  {
   "cell_type": "markdown",
   "metadata": {},
   "source": [
    "## Fonction 1: factorisation LU sans pivotage\n",
    "Implémenter une fonction matlab *function [L,U] = MonLU(A)* qui met en oeuvre la factorisation LU sans pivotage.   \n",
    "\n",
    "## Fonction 2: Résolution d'un système triangulaire inférieur\n",
    "Implémenter une fonction *function [x] = Descente(A,Y)* qui met en oeuvre la résolution par descente d'un système triangulaire inférieur.  \n",
    "\n",
    "En déduire une fonction *Montee* pour un système triangulaire supérieur.   \n",
    "\n",
    "## Fonction 3: factorisation LU avec pivotage\n",
    "Ecrire une fonction *function [L,U,P] = MonLUPivot(A)* qui met en oeuvre la factorisation LU **avec** pivotage partiel.\n",
    "\n",
    "## Application numérique a)\n",
    "Ecrire un script matlab d'énoncé du système 3\\*3 à résoudre.   \n",
    "Puis, tester les 3 fonctions en les comparant aux résultats fournis par la fonction 'lu' de matlab:   \n",
    "Y = lu(A) où Y est la factorisation LU 'in place'   \n",
    "inv(L) et inv(U) pour la résolution des systèmes triangulaire   \n",
    "[L,U,P]=lu(A) pour la factorisation avec pivot   "
   ]
  },
  {
   "cell_type": "code",
   "execution_count": null,
   "metadata": {
    "collapsed": false,
    "scrolled": true
   },
   "outputs": [],
   "source": [
    "A = [1 1 2;-1 -2 3;3 -7 4]\n",
    "yA = [8;1;10]"
   ]
  },
  {
   "cell_type": "code",
   "execution_count": null,
   "metadata": {
    "collapsed": false
   },
   "outputs": [],
   "source": [
    "Y = lu(A)"
   ]
  },
  {
   "cell_type": "code",
   "execution_count": null,
   "metadata": {
    "collapsed": false
   },
   "outputs": [],
   "source": [
    "[L,U,P] = lu(A)"
   ]
  },
  {
   "cell_type": "markdown",
   "metadata": {},
   "source": [
    "## Application numérique b)\n",
    "Même chose avec le système 4\\*4 proposé.   \n",
    "Que se passe-t-il ?"
   ]
  },
  {
   "cell_type": "code",
   "execution_count": null,
   "metadata": {
    "collapsed": true
   },
   "outputs": [],
   "source": [
    "B=[1 -1 2 -1;2 1 -2 -2;-1 2 -4 1;3 0 0 -3]\n",
    "yB = [-1;-2;1;-3]"
   ]
  }
 ],
 "metadata": {
  "kernelspec": {
   "display_name": "Matlab",
   "language": "matlab",
   "name": "matlab"
  },
  "language_info": {
   "codemirror_mode": "octave",
   "file_extension": ".m",
   "help_links": [
    {
     "text": "MetaKernel Magics",
     "url": "https://github.com/calysto/metakernel/blob/master/metakernel/magics/README.md"
    }
   ],
   "mimetype": "text/x-matlab",
   "name": "matlab",
   "version": "0.13.0"
  }
 },
 "nbformat": 4,
 "nbformat_minor": 2
}
