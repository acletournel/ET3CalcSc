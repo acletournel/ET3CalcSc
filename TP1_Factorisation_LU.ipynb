{
 "cells": [
  {
   "cell_type": "markdown",
   "metadata": {
    "collapsed": false
   },
   "source": [
    " # TP1 Calcul scientifique - 8 mars 2017 - Factorisation LU\n",
    " \n",
    "## Clefs Matlab\n",
    "\n",
    "Matlab = MATrix LABoratory.\n",
    "Logiciel payant de l'éditeur de logiciel Mathworks. \n",
    "Une bonne alternative open-source à Matlab est scilab.\n",
    "Pour connaitre sa version de matlab ainsi que les toolbox installées, entrer \"ver\" dans la console.\n",
    "\n"
   ]
  },
  {
   "cell_type": "code",
   "execution_count": null,
   "metadata": {
    "collapsed": false
   },
   "outputs": [],
   "source": [
    "ver"
   ]
  },
  {
   "cell_type": "markdown",
   "metadata": {},
   "source": [
    "### L'interface"
   ]
  },
  {
   "cell_type": "code",
   "execution_count": null,
   "metadata": {
    "collapsed": false
   },
   "outputs": [],
   "source": [
    "1+1"
   ]
  },
  {
   "cell_type": "markdown",
   "metadata": {},
   "source": [
    "\"ans\" signifie \"answer\". Pour rendre matlab muet, il faut mettre \";\" après chaque instruction. Illustration:"
   ]
  },
  {
   "cell_type": "code",
   "execution_count": null,
   "metadata": {
    "collapsed": true
   },
   "outputs": [],
   "source": [
    "1+1;"
   ]
  },
  {
   "cell_type": "markdown",
   "metadata": {},
   "source": [
    "tester les commandes \"clear\" (efface console et mémoire), \"help\" et \"whos\""
   ]
  },
  {
   "cell_type": "code",
   "execution_count": null,
   "metadata": {
    "collapsed": false
   },
   "outputs": [],
   "source": [
    "help clear"
   ]
  },
  {
   "cell_type": "code",
   "execution_count": null,
   "metadata": {
    "collapsed": false
   },
   "outputs": [],
   "source": [
    "pi"
   ]
  },
  {
   "cell_type": "code",
   "execution_count": 17,
   "metadata": {
    "collapsed": false
   },
   "outputs": [],
   "source": [
    "a=pi;"
   ]
  },
  {
   "cell_type": "code",
   "execution_count": 18,
   "metadata": {
    "collapsed": false
   },
   "outputs": [
    {
     "name": "stdout",
     "output_type": "stream",
     "text": [
      "  Name      Size            Bytes  Class     Attributes\n",
      "\n",
      "  a         1x1                 8  double              \n",
      "\n"
     ]
    }
   ],
   "source": [
    "whos a"
   ]
  },
  {
   "cell_type": "markdown",
   "metadata": {},
   "source": [
    "### L'espace de travail\n",
    "\n",
    "Il est important de connaitre son répertoire courant \"userpath\" avec la commande \"pwd\", de pouvoir le modifier avec \"cd\", créer des repertoires(\"mkdir\"), éventuellement, d'enrichir le Matlabpath, interrogeable avec la commande \"path\"."
   ]
  },
  {
   "cell_type": "code",
   "execution_count": null,
   "metadata": {
    "collapsed": false
   },
   "outputs": [],
   "source": [
    "userpath"
   ]
  },
  {
   "cell_type": "code",
   "execution_count": null,
   "metadata": {
    "collapsed": false,
    "scrolled": false
   },
   "outputs": [],
   "source": [
    "pwd"
   ]
  },
  {
   "cell_type": "code",
   "execution_count": null,
   "metadata": {
    "collapsed": false,
    "scrolled": false
   },
   "outputs": [],
   "source": [
    "path"
   ]
  },
  {
   "cell_type": "code",
   "execution_count": null,
   "metadata": {
    "collapsed": false
   },
   "outputs": [],
   "source": [
    "addpath(userpath)"
   ]
  },
  {
   "cell_type": "code",
   "execution_count": 1,
   "metadata": {
    "collapsed": false
   },
   "outputs": [
    {
     "name": "stdout",
     "output_type": "stream",
     "text": [
      "\n",
      "ans =\n",
      "\n",
      "     2\n",
      "\n"
     ]
    }
   ],
   "source": [
    "1+1\n"
   ]
  },
  {
   "cell_type": "code",
   "execution_count": null,
   "metadata": {
    "collapsed": true
   },
   "outputs": [],
   "source": []
  },
  {
   "cell_type": "code",
   "execution_count": 4,
   "metadata": {
    "collapsed": false
   },
   "outputs": [
    {
     "name": "stdout",
     "output_type": "stream",
     "text": [
      "\n",
      "A =\n",
      "\n",
      "     1     1     2\n",
      "    -1    -2     3\n",
      "     3    -7     4\n",
      "\n"
     ]
    }
   ],
   "source": [
    "A=[1 1 2;-1 -2 3;3 -7 4]"
   ]
  },
  {
   "cell_type": "code",
   "execution_count": 7,
   "metadata": {
    "collapsed": false
   },
   "outputs": [
    {
     "name": "stdout",
     "output_type": "stream",
     "text": [
      "\n",
      "L =\n",
      "\n",
      "     1     0     0\n",
      "    -1     1     0\n",
      "     3    10     1\n",
      "\n",
      "\n",
      "U =\n",
      "\n",
      "     1     1     2\n",
      "     0    -1     5\n",
      "     0     0   -52\n",
      "\n"
     ]
    }
   ],
   "source": [
    "n = size(A);\n",
    "for k = 1:n-1\n",
    "    for i = k+1:n\n",
    "        A(i,k) = A(i,k)/A(k,k); % sortir la colonne de gauche\n",
    "    end\n",
    "    for i = (k+1):n\n",
    "        for j = k+1:n % transformer la sous-matrice (n-k) pour itérer\n",
    "            A(i,j) = A(i,j)-A(i,k)*A(k,j);\n",
    "        end\n",
    "    end\n",
    "end\n",
    "L=eye(n)+tril(A,-1)\n",
    "U=triu(A)"
   ]
  },
  {
   "cell_type": "code",
   "execution_count": null,
   "metadata": {
    "collapsed": true
   },
   "outputs": [],
   "source": []
  }
 ],
 "metadata": {
  "kernelspec": {
   "display_name": "Matlab",
   "language": "matlab",
   "name": "matlab"
  },
  "language_info": {
   "codemirror_mode": "octave",
   "file_extension": ".m",
   "help_links": [
    {
     "text": "MetaKernel Magics",
     "url": "https://github.com/calysto/metakernel/blob/master/metakernel/magics/README.md"
    }
   ],
   "mimetype": "text/x-matlab",
   "name": "matlab",
   "version": "0.13.0"
  }
 },
 "nbformat": 4,
 "nbformat_minor": 2
}
