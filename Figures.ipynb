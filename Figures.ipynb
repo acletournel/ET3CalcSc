{
 "cells": [
  {
   "cell_type": "markdown",
   "metadata": {},
   "source": [
    "# Figures en Matlab\n",
    "## définition des fonctions\n",
    "### Fonctions anonymes\n",
    "Variable_stockant_la_fonction = @(argument1, argument2, ....) expression_de_la_fonction   \n",
    "Avec une telle fonction, on utilise fplot pour les figures.  \n",
    "Intervalle par défaut = [-5 5]  \n",
    "hold on / off pour superposer sur la même figure  \n",
    "legend('nomFonction','location','southeast'), xlabel('nomAbcisse'), ylabel('nomOrdonnée'), grid, title('Titre')   \n",
    "Type de ligne: vecteur de caractères: style ('--', ':'), marqueur ('o', '\\*'), couleur (ymc, rgb, wk)   "
   ]
  },
  {
   "cell_type": "code",
   "execution_count": 1,
   "metadata": {
    "collapsed": false
   },
   "outputs": [
    {
     "name": "stdout",
     "output_type": "stream",
     "text": [
      "\n",
      "f =\n",
      "\n",
      "  function_handle with value:\n",
      "\n",
      "    @(x)sin(2*x)-1+x\n",
      "\n"
     ]
    }
   ],
   "source": [
    "f=@(x)sin(2*x)-1+x"
   ]
  },
  {
   "cell_type": "code",
   "execution_count": null,
   "metadata": {
    "collapsed": true
   },
   "outputs": [],
   "source": [
    "fplot(f,[-1 1])"
   ]
  },
  {
   "cell_type": "markdown",
   "metadata": {},
   "source": [
    "## Boucle while \n",
    "### Opérations logiques:  \n",
    "A & B ou encore and(A,B)  \n",
    "~A ou encore not(A)  \n",
    "A | B ou encore or(A,B)  \n",
    "C = xor(A,B)  \n",
    "### Opérations relationnelles:\n",
    "A == B ou encore eq(A,B)  \n",
    "A >= B ou encore ge(A,B) et A > B ou encore gt(A,B)  \n",
    "A <= B ou encore le(A,B) et A < B ou encore lt(A,B)  \n",
    "A ~= B ou encore ne(A,B)  \n",
    "### Précision\n",
    "simple précision (Codage sur 32 bits = 1 bit signe + 8 bits exposant + 23 bits mantisse): 7 chiffres significatifs env.    \n",
    "double précision (codage sur 64 bits = 1 bit de signe + 11 bits exposant + 52 bits mantisse): 16 chiffres sign. env.  \n",
    "\n"
   ]
  },
  {
   "cell_type": "code",
   "execution_count": null,
   "metadata": {
    "collapsed": true
   },
   "outputs": [],
   "source": []
  }
 ],
 "metadata": {
  "kernelspec": {
   "display_name": "Matlab",
   "language": "matlab",
   "name": "matlab"
  },
  "language_info": {
   "codemirror_mode": "octave",
   "file_extension": ".m",
   "help_links": [
    {
     "text": "MetaKernel Magics",
     "url": "https://github.com/calysto/metakernel/blob/master/metakernel/magics/README.md"
    }
   ],
   "mimetype": "text/x-matlab",
   "name": "matlab",
   "version": "0.13.0"
  }
 },
 "nbformat": 4,
 "nbformat_minor": 2
}
